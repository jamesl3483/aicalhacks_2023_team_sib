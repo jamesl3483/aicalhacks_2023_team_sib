{
  "cells": [
    {
      "cell_type": "markdown",
      "metadata": {
        "id": "view-in-github",
        "colab_type": "text"
      },
      "source": [
        "<a href=\"https://colab.research.google.com/github/jamesl3483/aicalhacks_2023_team_sib/blob/main/hands_on_with_hume.ipynb\" target=\"_parent\"><img src=\"https://colab.research.google.com/assets/colab-badge.svg\" alt=\"Open In Colab\"/></a>"
      ]
    },
    {
      "cell_type": "markdown",
      "metadata": {
        "id": "6Hmlv2mSrUne"
      },
      "source": [
        "## Hume + LLMs Workshop\n",
        "\n",
        "This notebook uses the Hume batch API to analyze text and then convert emotion embeddings into text that can be used to condition an LLM like ChatGPT."
      ]
    },
    {
      "cell_type": "code",
      "source": [
        "!pip install hume\n",
        "!pip install numpy"
      ],
      "metadata": {
        "id": "wcxWUP0ZtzTe"
      },
      "execution_count": null,
      "outputs": []
    },
    {
      "cell_type": "code",
      "execution_count": null,
      "metadata": {
        "id": "22l4VDtSrUng"
      },
      "outputs": [],
      "source": [
        "from hume import HumeBatchClient\n",
        "from hume.models.config import LanguageConfig"
      ]
    },
    {
      "cell_type": "markdown",
      "source": [
        "### Paste your API keys here"
      ],
      "metadata": {
        "id": "q3-OGBWXCZsK"
      }
    },
    {
      "cell_type": "code",
      "source": [
        "HUME_API_KEY = \"DpHWXrvooSKqQ2jCX6jqP4UoLOmlzpJc3q98AfpLiBANmYPA\""
      ],
      "metadata": {
        "id": "WaQ3jNolCWnL"
      },
      "execution_count": null,
      "outputs": []
    },
    {
      "cell_type": "markdown",
      "source": [
        "### Write some text with emotion to be processed"
      ],
      "metadata": {
        "id": "FHSvb0kJCWTt"
      }
    },
    {
      "cell_type": "code",
      "source": [
        "from pathlib import Path\n",
        "\n",
        "TEXT = \"I'm so excited for the camping trip next weekend!\"\n",
        "\n",
        "filepath = \"text.txt\"\n",
        "with open(filepath, \"w\") as fp:\n",
        "    fp.write(TEXT)"
      ],
      "metadata": {
        "id": "yYdEkOjDDDHb"
      },
      "execution_count": null,
      "outputs": []
    },
    {
      "cell_type": "markdown",
      "metadata": {
        "id": "8UZ3ZlkKrUnh"
      },
      "source": [
        "### Submit a batch job"
      ]
    },
    {
      "cell_type": "code",
      "execution_count": null,
      "metadata": {
        "id": "y51uLwVYrUnh"
      },
      "outputs": [],
      "source": [
        "client = HumeBatchClient(HUME_API_KEY)\n",
        "config = LanguageConfig(granularity=\"sentence\", identify_speakers=True)\n",
        "job = client.submit_job(None, [config], files=[filepath])\n",
        "\n",
        "print(\"Running...\", job)\n",
        "\n",
        "job.await_complete()\n",
        "print(\"Job completed with status: \", job.get_status())"
      ]
    },
    {
      "cell_type": "markdown",
      "metadata": {
        "id": "VStdy9rZrUnh"
      },
      "source": [
        "### Print out predictions"
      ]
    },
    {
      "cell_type": "code",
      "source": [
        "from typing import Any, Dict, List\n",
        "\n",
        "\n",
        "def print_emotions(emotions: List[Dict[str, Any]]) -> None:\n",
        "    emotion_map = {e[\"name\"]: e[\"score\"] for e in emotions}\n",
        "    for emotion in [\"Excitement\", \"Joy\", \"Sadness\", \"Anger\", \"Confusion\", \"Fear\"]:\n",
        "        print(f\"- {emotion}: {emotion_map[emotion]:4f}\")"
      ],
      "metadata": {
        "id": "VKwphjRtvaMx"
      },
      "execution_count": null,
      "outputs": []
    },
    {
      "cell_type": "code",
      "execution_count": null,
      "metadata": {
        "id": "Bf4l7IWZrUni"
      },
      "outputs": [],
      "source": [
        "emotion_embeddings = []\n",
        "full_predictions = job.get_predictions()\n",
        "for source in full_predictions:\n",
        "    predictions = source[\"results\"][\"predictions\"]\n",
        "    for prediction in predictions:\n",
        "        language_predictions = prediction[\"models\"][\"language\"][\"grouped_predictions\"]\n",
        "        for language_prediction in language_predictions:\n",
        "            for chunk in language_prediction[\"predictions\"]:\n",
        "                print(chunk[\"text\"])\n",
        "                print_emotions(chunk[\"emotions\"])\n",
        "                emotion_embeddings.append(chunk[\"emotions\"])\n",
        "                print()"
      ]
    },
    {
      "cell_type": "markdown",
      "metadata": {
        "id": "3lwWOkTMrUni"
      },
      "source": [
        "### Embedding-String Transformation"
      ]
    },
    {
      "cell_type": "code",
      "execution_count": null,
      "metadata": {
        "id": "BNuqj2UurUni"
      },
      "outputs": [],
      "source": [
        "import numpy as np\n",
        "from typing import List\n",
        "\n",
        "\n",
        "class Stringifier:\n",
        "    RANGES = [(0.26, 0.35), (0.35, 0.44), (0.44, 0.53), (0.53, 0.62), (0.62, 0.71), (0.71, 10)]\n",
        "    ADVERBS = [\"slightly\", \"somewhat\", \"moderately\", \"quite\", \"very\", \"extremely\"]\n",
        "\n",
        "    ADJECTIVES_48 = [\n",
        "        \"admiring\", \"adoring\", \"appreciative\", \"amused\", \"angry\", \"anxious\", \"awestruck\", \"uncomfortable\", \"bored\",\n",
        "        \"calm\", \"focused\", \"contemplative\", \"confused\", \"contemptuous\", \"content\", \"hungry\", \"determined\",\n",
        "        \"disappointed\", \"disgusted\", \"distressed\", \"doubtful\", \"euphoric\", \"embarrassed\", \"disturbed\", \"entranced\",\n",
        "        \"envious\", \"excited\", \"fearful\", \"guilty\", \"horrified\", \"interested\", \"happy\", \"enamored\", \"nostalgic\",\n",
        "        \"pained\", \"proud\", \"inspired\", \"relieved\", \"smitten\", \"sad\", \"satisfied\", \"desirous\", \"ashamed\",\n",
        "        \"negatively surprised\", \"positively surprised\", \"sympathetic\", \"tired\", \"triumphant\"\n",
        "    ]\n",
        "\n",
        "    ADJECTIVES_53 = [\n",
        "        \"admiring\", \"adoring\", \"appreciative\", \"amused\", \"angry\", \"annoyed\", \"anxious\", \"awestruck\", \"uncomfortable\",\n",
        "        \"bored\", \"calm\", \"focused\", \"contemplative\", \"confused\", \"contemptuous\", \"content\", \"hungry\", \"desirous\",\n",
        "        \"determined\", \"disappointed\", \"disapproving\", \"disgusted\", \"distressed\", \"doubtful\", \"euphoric\", \"embarrassed\",\n",
        "        \"disturbed\", \"enthusiastic\", \"entranced\", \"envious\", \"excited\", \"fearful\", \"grateful\", \"guilty\", \"horrified\",\n",
        "        \"interested\", \"happy\", \"enamored\", \"nostalgic\", \"pained\", \"proud\", \"inspired\", \"relieved\", \"smitten\", \"sad\",\n",
        "        \"satisfied\", \"desirous\", \"ashamed\", \"negatively surprised\", \"positively surprised\", \"sympathetic\", \"tired\",\n",
        "        \"triumphant\"\n",
        "    ]\n",
        "\n",
        "    @classmethod\n",
        "    def scores_to_text(cls, emotion_scores: List[float]) -> str:\n",
        "        if len(emotion_scores) == 48:\n",
        "            adjectives = cls.ADJECTIVES_48\n",
        "        elif len(emotion_scores) == 53:\n",
        "            adjectives = cls.ADJECTIVES_53\n",
        "        else:\n",
        "            raise ValueError(f\"Invalid length for emotion_scores {len(emotion_scores)}\")\n",
        "\n",
        "        # Return \"neutral\" if no emotions rate highly\n",
        "        if all(emotion_score < cls.RANGES[0][0] for emotion_score in emotion_scores):\n",
        "            return \"neutral\"\n",
        "\n",
        "        # Construct phrases for all emotions that rate highly enough\n",
        "        phrases = [\"\"] * len(emotion_scores)\n",
        "        for range_idx, (range_min, range_max) in enumerate(cls.RANGES):\n",
        "            for emotion_idx, emotion_score in enumerate(emotion_scores):\n",
        "                if range_min < emotion_score < range_max:\n",
        "                    phrases[emotion_idx] = f\"{cls.ADVERBS[range_idx]} {adjectives[emotion_idx]}\"\n",
        "\n",
        "        # Sort phrases by score\n",
        "        sorted_indices = np.argsort(emotion_scores)[::-1]\n",
        "        phrases = [phrases[i] for i in sorted_indices if phrases[i] != \"\"]\n",
        "\n",
        "        # If there is only one phrase that rates highly, return it\n",
        "        if len(phrases) == 0:\n",
        "            return phrases[0]\n",
        "\n",
        "        # Return all phrases separated by conjunctions\n",
        "        return \", \".join(phrases[:-1]) + \", and \" + phrases[-1]\n"
      ]
    },
    {
      "cell_type": "code",
      "execution_count": null,
      "metadata": {
        "id": "Cp6wcXMArUni"
      },
      "outputs": [],
      "source": [
        "stringifier = Stringifier()\n",
        "for emotion_embedding in emotion_embeddings:\n",
        "    emotion_scores = [emotion[\"score\"] for emotion in emotion_embedding]\n",
        "    text = stringifier.scores_to_text(emotion_scores)\n",
        "    print(text)"
      ]
    },
    {
      "cell_type": "markdown",
      "source": [
        "### Integrating with LLMs\n",
        "\n",
        "This next part we leave up to you!\n",
        "\n",
        "Take the text output of the last cell and integrate it into your LLM prompt."
      ],
      "metadata": {
        "id": "BxNPpUBodAqd"
      }
    },
    {
      "cell_type": "code",
      "source": [],
      "metadata": {
        "id": "iZkeZYNGdBsi"
      },
      "execution_count": null,
      "outputs": []
    }
  ],
  "metadata": {
    "kernelspec": {
      "display_name": "Python 3 (ipykernel)",
      "language": "python",
      "name": "python3"
    },
    "language_info": {
      "codemirror_mode": {
        "name": "ipython",
        "version": 3
      },
      "file_extension": ".py",
      "mimetype": "text/x-python",
      "name": "python",
      "nbconvert_exporter": "python",
      "pygments_lexer": "ipython3",
      "version": "3.8.16"
    },
    "vscode": {
      "interpreter": {
        "hash": "803ebf602b46e67aaba753b211048224996199ded4fc88a644a85d99d245b351"
      }
    },
    "colab": {
      "provenance": [],
      "toc_visible": true,
      "include_colab_link": true
    }
  },
  "nbformat": 4,
  "nbformat_minor": 0
}